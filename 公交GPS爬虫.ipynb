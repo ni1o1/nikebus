{
 "cells": [
  {
   "cell_type": "markdown",
   "metadata": {},
   "source": [
    "# 爬虫"
   ]
  },
  {
   "cell_type": "code",
   "execution_count": 2,
   "metadata": {},
   "outputs": [],
   "source": [
    "import urllib\n",
    "import json\n",
    "import pandas as pd\n",
    "import time\n",
    "while 1:\n",
    "    try:\n",
    "        url = 'https://bus.sustcra.com/api/v2/monitor_osm/'\n",
    "        request = urllib.request.Request(url)\n",
    "        response = urllib.request.urlopen(request)\n",
    "        webpage = response.read()\n",
    "        result = webpage.decode('utf8', 'ignore')\n",
    "        data = json.loads(result)\n",
    "        data = pd.DataFrame(data)\n",
    "        data = data[data['it']==0]\n",
    "        if len(data)>0:\n",
    "            data['time_mt'] = data['time_mt'].apply(lambda r:time.strftime(\"%Y-%m-%d %H:%M:%S\",time.localtime(r)))\n",
    "            data['time_rt'] = data['time_rt'].apply(lambda r:time.strftime(\"%Y-%m-%d %H:%M:%S\",time.localtime(r)))\n",
    "            data['time_et'] = data['time_et'].apply(lambda r:time.strftime(\"%Y-%m-%d %H:%M:%S\",time.localtime(r)))\n",
    "            data['time_at'] = data['time_at'].apply(lambda r:time.strftime(\"%Y-%m-%d %H:%M:%S\",time.localtime(r)))\n",
    "            thistime = time.strftime(\"%Y-%m-%d %H:%M:%S\",time.localtime(time.time()))\n",
    "            data.to_csv(r'GPSdata/realtime/'+thistime+'.csv',index = None)\n",
    "            time.sleep(5)\n",
    "    except:\n",
    "        pass"
   ]
  },
  {
   "cell_type": "markdown",
   "metadata": {},
   "source": [
    "# 数据整理"
   ]
  },
  {
   "cell_type": "code",
   "execution_count": 10,
   "metadata": {},
   "outputs": [],
   "source": [
    "import pandas as pd\n",
    "import glob\n",
    "files = glob.glob(\"GPSdata/realtime/*.csv\")\n",
    "df = []\n",
    "for f in files:\n",
    "    csv = pd.read_csv(f)\n",
    "    df.append(csv)\n",
    "df = pd.concat(df)\n",
    "df = df.sort_values(by = 'time_rt')\n",
    "df"
   ]
  }
 ],
 "metadata": {
  "kernelspec": {
   "display_name": "Python 3.8.8",
   "language": "python",
   "name": "python3"
  },
  "language_info": {
   "codemirror_mode": {
    "name": "ipython",
    "version": 3
   },
   "file_extension": ".py",
   "mimetype": "text/x-python",
   "name": "python",
   "nbconvert_exporter": "python",
   "pygments_lexer": "ipython3",
   "version": "3.8.8"
  },
  "orig_nbformat": 4,
  "vscode": {
   "interpreter": {
    "hash": "40d3a090f54c6569ab1632332b64b2c03c39dcf918b08424e98f38b5ae0af88f"
   }
  }
 },
 "nbformat": 4,
 "nbformat_minor": 2
}

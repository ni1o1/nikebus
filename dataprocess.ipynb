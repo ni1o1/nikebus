{
 "cells": [
  {
   "cell_type": "code",
   "execution_count": 99,
   "metadata": {},
   "outputs": [],
   "source": [
    "import pandas as pd\n",
    "import numpy as np\n",
    "import geopandas as gpd\n",
    "import transbigdata as tbd"
   ]
  },
  {
   "cell_type": "code",
   "execution_count": 100,
   "metadata": {},
   "outputs": [],
   "source": [
    "\n",
    "geojson_line_1= [\n",
    "    [\n",
    "      113.9902000608227,\n",
    "      22.60334446057298,\n",
    "      0\n",
    "    ],\n",
    "    [\n",
    "      113.9903507353066,\n",
    "      22.60274690433305,\n",
    "      0\n",
    "    ],\n",
    "    [\n",
    "      113.9908897685934,\n",
    "      22.60223280847205,\n",
    "      0\n",
    "    ],\n",
    "    [\n",
    "      113.9916260097764,\n",
    "      22.60156692563558,\n",
    "      0\n",
    "    ],\n",
    "    [\n",
    "      113.9920446448193,\n",
    "      22.60109135771524,\n",
    "      0\n",
    "    ],\n",
    "    [\n",
    "      113.9920345671635,\n",
    "      22.60052003061499,\n",
    "      0\n",
    "    ],\n",
    "    [\n",
    "      113.9919356057219,\n",
    "      22.60002742855453,\n",
    "      0\n",
    "    ],\n",
    "    [\n",
    "      113.9913193648925,\n",
    "      22.59945330686925,\n",
    "      0\n",
    "    ],\n",
    "    [\n",
    "      113.9908118273651,\n",
    "      22.59919305096794,\n",
    "      0\n",
    "    ],\n",
    "    [\n",
    "      113.9905758993394,\n",
    "      22.59903425858952,\n",
    "      0\n",
    "    ],\n",
    "    [\n",
    "      113.9904009525345,\n",
    "      22.59862018369482,\n",
    "      0\n",
    "    ],\n",
    "    [\n",
    "      113.9902978490773,\n",
    "      22.59752639824848,\n",
    "      0\n",
    "    ],\n",
    "    [\n",
    "      113.9904063277428,\n",
    "      22.59709615868556,\n",
    "      0\n",
    "    ],\n",
    "    [\n",
    "      113.9908760621444,\n",
    "      22.59704147897459,\n",
    "      0\n",
    "    ],\n",
    "    [\n",
    "      113.9915566904328,\n",
    "      22.5972455558366,\n",
    "      0\n",
    "    ],\n",
    "    [\n",
    "      113.9920342333153,\n",
    "      22.59726814181022,\n",
    "      0\n",
    "    ],\n",
    "    [\n",
    "      113.9927162086146,\n",
    "      22.5968173712095,\n",
    "      0\n",
    "    ],\n",
    "    [\n",
    "      113.9932552142158,\n",
    "      22.59630326187374,\n",
    "      0\n",
    "    ],\n",
    "    [\n",
    "      113.9938251162565,\n",
    "      22.5960599036024,\n",
    "      0\n",
    "    ],\n",
    "    [\n",
    "      113.9942637689173,\n",
    "      22.59607116200299,\n",
    "      0\n",
    "    ],\n",
    "    [\n",
    "      113.9945506236767,\n",
    "      22.59551917942994,\n",
    "      0\n",
    "    ],\n",
    "    [\n",
    "      113.9952872316258,\n",
    "      22.59597241715224,\n",
    "      0\n",
    "    ],\n",
    "    [\n",
    "      113.9965296425777,\n",
    "      22.59731692465482,\n",
    "      0\n",
    "    ],\n",
    "    [\n",
    "      113.9980455511388,\n",
    "      22.59902110136386,\n",
    "      0\n",
    "    ],\n",
    "    [\n",
    "      113.9987961352288,\n",
    "      22.59953364148681,\n",
    "      0\n",
    "    ],\n",
    "    [\n",
    "      113.9996172189355,\n",
    "      22.60002130471761,\n",
    "      0\n",
    "    ],\n",
    "    [\n",
    "      113.9988625272248,\n",
    "      22.60073512664515,\n",
    "      0\n",
    "    ],\n",
    "    [\n",
    "      113.998734780645,\n",
    "      22.60117875994807,\n",
    "      0\n",
    "    ],\n",
    "    [\n",
    "      113.9987272567012,\n",
    "      22.60148247090658,\n",
    "      0\n",
    "    ],\n",
    "    [\n",
    "      113.9984811102924,\n",
    "      22.60178382602745,\n",
    "      0\n",
    "    ],\n",
    "    [\n",
    "      113.9982613807302,\n",
    "      22.6021205004729,\n",
    "      0\n",
    "    ],\n",
    "    [\n",
    "      113.9980697519452,\n",
    "      22.60258771673122,\n",
    "      0\n",
    "    ],\n",
    "    [\n",
    "      113.9980026147617,\n",
    "      22.60300575140722,\n",
    "      0\n",
    "    ],\n",
    "    [\n",
    "      113.9979489117119,\n",
    "      22.60325062940188,\n",
    "      0\n",
    "    ],\n",
    "    [\n",
    "      113.9978602396981,\n",
    "      22.6033412591236,\n",
    "      0\n",
    "    ],\n",
    "    [\n",
    "      113.9968866415579,\n",
    "      22.6029808956564,\n",
    "      0\n",
    "    ],\n",
    "    [\n",
    "      113.9962401029074,\n",
    "      22.60288348203091,\n",
    "      0\n",
    "    ],\n",
    "    [\n",
    "      113.9955117554291,\n",
    "      22.60290040283193,\n",
    "      0\n",
    "    ],\n",
    "    [\n",
    "      113.9950813789864,\n",
    "      22.60335930509263,\n",
    "      0\n",
    "    ],\n",
    "    [\n",
    "      113.9944946598457,\n",
    "      22.60394737599491,\n",
    "      0\n",
    "    ],\n",
    "    [\n",
    "      113.9939497003322,\n",
    "      22.60464554145209,\n",
    "      0\n",
    "    ],\n",
    "    [\n",
    "      113.9934784038899,\n",
    "      22.60548092977822,\n",
    "      0\n",
    "    ],\n",
    "    [\n",
    "      113.995278497141,\n",
    "      22.60640224097063,\n",
    "      0\n",
    "    ],\n",
    "    [\n",
    "      113.9953277666447,\n",
    "      22.60667341560261,\n",
    "      0\n",
    "    ],\n",
    "    [\n",
    "      113.9964905851169,\n",
    "      22.6063775771138,\n",
    "      0\n",
    "    ],\n",
    "    [\n",
    "      113.9977156537446,\n",
    "      22.60596002561628,\n",
    "      0\n",
    "    ],\n",
    "    [\n",
    "      113.9983207115444,\n",
    "      22.60613169032316,\n",
    "      0\n",
    "    ],\n",
    "    [\n",
    "      113.9986648706885,\n",
    "      22.60659923685179,\n",
    "      0\n",
    "    ],\n",
    "    [\n",
    "      113.9988979465801,\n",
    "      22.60815331611633,\n",
    "      0\n",
    "    ],\n",
    "    [\n",
    "      113.9981618912118,\n",
    "      22.60975341767644,\n",
    "      0\n",
    "    ],\n",
    "    [\n",
    "      113.9976555155949,\n",
    "      22.61051444868976,\n",
    "      0\n",
    "    ],\n",
    "    [\n",
    "      113.9973489079054,\n",
    "      22.61067741494136,\n",
    "      0\n",
    "    ]\n",
    "  ]\n",
    "geojson_line_2= [\n",
    "    [\n",
    "      113.9914596783045,\n",
    "      22.59960492109923,\n",
    "      0\n",
    "    ],\n",
    "    [\n",
    "      113.9918969233072,\n",
    "      22.59993661748595,\n",
    "      0\n",
    "    ],\n",
    "    [\n",
    "      113.9920105698998,\n",
    "      22.6005318195689,\n",
    "      0\n",
    "    ],\n",
    "    [\n",
    "      113.9919172423369,\n",
    "      22.60102266627295,\n",
    "      0\n",
    "    ],\n",
    "    [\n",
    "      113.9917196221943,\n",
    "      22.601431625928,\n",
    "      0\n",
    "    ],\n",
    "    [\n",
    "      113.9912862193332,\n",
    "      22.60181812810236,\n",
    "      0\n",
    "    ],\n",
    "    [\n",
    "      113.9909041713777,\n",
    "      22.60213330809864,\n",
    "      0\n",
    "    ],\n",
    "    [\n",
    "      113.9904804856139,\n",
    "      22.60253483338519,\n",
    "      0\n",
    "    ],\n",
    "    [\n",
    "      113.9903330314688,\n",
    "      22.60277899659393,\n",
    "      0\n",
    "    ],\n",
    "    [\n",
    "      113.9900477774609,\n",
    "      22.60433153499769,\n",
    "      0\n",
    "    ],\n",
    "    [\n",
    "      113.9900962409839,\n",
    "      22.60464254738627,\n",
    "      0\n",
    "    ],\n",
    "    [\n",
    "      113.9903161120924,\n",
    "      22.60505460565142,\n",
    "      0\n",
    "    ],\n",
    "    [\n",
    "      113.9915641615897,\n",
    "      22.60511717356275,\n",
    "      0\n",
    "    ],\n",
    "    [\n",
    "      113.9934784038899,\n",
    "      22.60548092977822,\n",
    "      0\n",
    "    ],\n",
    "    [\n",
    "      113.995278497141,\n",
    "      22.60640224097063,\n",
    "      0\n",
    "    ],\n",
    "    [\n",
    "      113.9953277666447,\n",
    "      22.60667341560261,\n",
    "      0\n",
    "    ],\n",
    "    [\n",
    "      113.9964905851169,\n",
    "      22.6063775771138,\n",
    "      0\n",
    "    ],\n",
    "    [\n",
    "      113.9977156537446,\n",
    "      22.60596002561628,\n",
    "      0\n",
    "    ],\n",
    "    [\n",
    "      113.9983207115444,\n",
    "      22.60613169032316,\n",
    "      0\n",
    "    ],\n",
    "    [\n",
    "      113.9986648706885,\n",
    "      22.60659923685179,\n",
    "      0\n",
    "    ],\n",
    "    [\n",
    "      113.9988979465801,\n",
    "      22.60815331611633,\n",
    "      0\n",
    "    ],\n",
    "    [\n",
    "      113.9981618912118,\n",
    "      22.60975341767644,\n",
    "      0\n",
    "    ],\n",
    "    [\n",
    "      113.9976555155949,\n",
    "      22.61051444868976,\n",
    "      0\n",
    "    ],\n",
    "    [\n",
    "      113.9973489079054,\n",
    "      22.61067741494136,\n",
    "      0\n",
    "    ]\n",
    "  ]\n",
    "stations_geojson= {\n",
    "    \"type\": \"FeatureCollection\", \"features\": [\n",
    "      {\n",
    "        \"type\": \"Feature\",\n",
    "        \"geometry\": {\"type\": \"Point\", \"coordinates\": [113.99020, 22.60336]},\n",
    "        \"properties\": {\"name\": \"工学院 COE\"}\n",
    "      },\n",
    "      {\n",
    "        \"type\": \"Feature\",\n",
    "        \"geometry\": {\"type\": \"Point\", \"coordinates\": [113.99153, 22.599643]},\n",
    "        \"properties\": {\"name\": \"科研楼 Research Building\"}\n",
    "      },\n",
    "      {\n",
    "        \"type\": \"Feature\",\n",
    "        \"geometry\": {\"type\": \"Point\", \"coordinates\": [113.990399, 22.597132]},\n",
    "        \"properties\": {\"name\": \"七号门 Gate7\"}\n",
    "      },\n",
    "      {\n",
    "        \"type\": \"Feature\",\n",
    "        \"geometry\": {\"type\": \"Point\", \"coordinates\": [113.992403, 22.597011]},\n",
    "        \"properties\": {\"name\": \"行政楼 Administration Building\"}\n",
    "      },\n",
    "      {\n",
    "        \"type\": \"Feature\",\n",
    "        \"geometry\": {\"type\": \"Point\", \"coordinates\": [113.994898, 22.59569]},\n",
    "        \"properties\": {\"name\": \"1号门 Gate1\"}\n",
    "      },\n",
    "      {\n",
    "        \"type\": \"Feature\",\n",
    "        \"geometry\": {\"type\": \"Point\", \"coordinates\": [113.99939, 22.599893]},\n",
    "        \"properties\": {\"name\": \"3号门 Gate3\"}\n",
    "      },\n",
    "      {\n",
    "        \"type\": \"Feature\",\n",
    "        \"geometry\": {\"type\": \"Point\", \"coordinates\": [113.998329, 22.601975]},\n",
    "        \"properties\": {\"name\": \"专家公寓 Guest Houses\"}\n",
    "      },\n",
    "      {\n",
    "        \"type\": \"Feature\",\n",
    "        \"geometry\": {\"type\": \"Point\", \"coordinates\": [113.997811, 22.603325]},\n",
    "        \"properties\": {\"name\": \"教工餐厅 Faculty Cafteria\"}\n",
    "      },\n",
    "      {\n",
    "        \"type\": \"Feature\",\n",
    "        \"geometry\": {\"type\": \"Point\", \"coordinates\": [113.995981, 22.60293]},\n",
    "        \"properties\": {\"name\": \"社康中心 C.Health.Center\"}\n",
    "      },\n",
    "      {\n",
    "        \"type\": \"Feature\",\n",
    "        \"geometry\": {\"type\": \"Point\", \"coordinates\": [113.99289, 22.60532]},\n",
    "        \"properties\": {\"name\": \"学生宿舍北 Student Dormitory N.\"}\n",
    "      },\n",
    "      {\n",
    "        \"type\": \"Feature\",\n",
    "        \"geometry\": {\"type\": \"Point\", \"coordinates\": [113.994041, 22.604431]},\n",
    "        \"properties\": {\"name\": \"学生宿舍南 Student Dormitory S.\"}\n",
    "      },\n",
    "      {\n",
    "        \"type\": \"Feature\",\n",
    "        \"geometry\": {\"type\": \"Point\", \"coordinates\": [113.995238, 22.606518]},\n",
    "        \"properties\": {\"name\": \"荔园 Lychee Hill\"}\n",
    "      },\n",
    "      {\n",
    "        \"type\": \"Feature\",\n",
    "        \"geometry\": {\"type\": \"Point\", \"coordinates\": [113.996732, 22.606278]},\n",
    "        \"properties\": {\"name\": \"创园 Chuang Yuan\"}\n",
    "      },\n",
    "      {\n",
    "        \"type\": \"Feature\",\n",
    "        \"geometry\": {\"type\": \"Point\", \"coordinates\": [113.998372, 22.606102]},\n",
    "        \"properties\": {\"name\": \"慧园 Hui Yuan\"}\n",
    "      },\n",
    "      {\n",
    "        \"type\": \"Feature\",\n",
    "        \"geometry\": {\"type\": \"Point\", \"coordinates\": [113.997473, 22.610667]},\n",
    "        \"properties\": {\"name\": \"欣园 Joy Highland\"}\n",
    "      }\n",
    "    ]\n",
    "  }"
   ]
  },
  {
   "cell_type": "code",
   "execution_count": 101,
   "metadata": {},
   "outputs": [],
   "source": [
    "import json\n",
    "stations_geojson = gpd.GeoDataFrame.from_features(stations_geojson)"
   ]
  },
  {
   "cell_type": "code",
   "execution_count": 102,
   "metadata": {},
   "outputs": [],
   "source": [
    "from shapely.geometry import LineString\n",
    "line1 = LineString(np.array(geojson_line_1)[:,:2])\n",
    "line1data = gpd.GeoDataFrame()\n",
    "line1data['geometry'] = [line1]\n",
    "line1data.to_file(r'public/data/line1.json',driver='GeoJSON')\n",
    "line1data.crs = 'epsg:4326'\n",
    "line1 = line1data.to_crs(epsg=3857)['geometry'].iloc[0]\n",
    "\n",
    "\n",
    "from shapely.geometry import LineString\n",
    "line2 = LineString(np.array(geojson_line_2)[:,:2])\n",
    "line2data = gpd.GeoDataFrame()\n",
    "line2data['geometry'] = [line2]\n",
    "line2data.to_file(r'public/data/line2.json',driver='GeoJSON')\n",
    "\n",
    "line2data.crs = 'epsg:4326'\n",
    "line2 = line2data.to_crs(epsg=3857)['geometry'].iloc[0]"
   ]
  },
  {
   "cell_type": "code",
   "execution_count": 83,
   "metadata": {},
   "outputs": [],
   "source": [
    "stations_geojson_line1 = stations_geojson.copy()\n",
    "stations_geojson_line2 = pd.concat([stations_geojson[1:2],\n",
    " stations_geojson[0:1], \n",
    " stations_geojson[-5:]])\n"
   ]
  },
  {
   "cell_type": "code",
   "execution_count": 84,
   "metadata": {},
   "outputs": [],
   "source": [
    "stations_geojson_line1.crs = 'epsg:4326'\n",
    "stations_geojson_line1_3857 = stations_geojson_line1.to_crs(epsg=3857)\n",
    "stations_geojson_line2.crs = 'epsg:4326'\n",
    "stations_geojson_line2_3857 = stations_geojson_line2.to_crs(epsg=3857)"
   ]
  },
  {
   "cell_type": "code",
   "execution_count": 85,
   "metadata": {},
   "outputs": [],
   "source": [
    "stations_geojson_line1['dist'] = stations_geojson_line1_3857['geometry'].apply(lambda r:line1.project(r))\n",
    "stations_geojson_line2['dist'] = stations_geojson_line2_3857['geometry'].apply(lambda r:line2.project(r))"
   ]
  },
  {
   "cell_type": "code",
   "execution_count": 90,
   "metadata": {},
   "outputs": [],
   "source": [
    "stations_geojson_line1['name'] = stations_geojson_line1['name'].apply(lambda r:r.split(' ')[0])\n",
    "stations_geojson_line2['name'] = stations_geojson_line2['name'].apply(lambda r:r.split(' ')[0])"
   ]
  },
  {
   "cell_type": "code",
   "execution_count": 91,
   "metadata": {},
   "outputs": [],
   "source": [
    "stations_geojson_line1.to_file(r'public/data/stop1.json',driver='GeoJSON')\n",
    "stations_geojson_line2.to_file(r'public/data/stop2.json',driver='GeoJSON')"
   ]
  },
  {
   "cell_type": "code",
   "execution_count": 86,
   "metadata": {},
   "outputs": [
    {
     "data": {
      "text/html": [
       "<div>\n",
       "<style scoped>\n",
       "    .dataframe tbody tr th:only-of-type {\n",
       "        vertical-align: middle;\n",
       "    }\n",
       "\n",
       "    .dataframe tbody tr th {\n",
       "        vertical-align: top;\n",
       "    }\n",
       "\n",
       "    .dataframe thead th {\n",
       "        text-align: right;\n",
       "    }\n",
       "</style>\n",
       "<table border=\"1\" class=\"dataframe\">\n",
       "  <thead>\n",
       "    <tr style=\"text-align: right;\">\n",
       "      <th></th>\n",
       "      <th>geometry</th>\n",
       "      <th>name</th>\n",
       "      <th>dist</th>\n",
       "    </tr>\n",
       "  </thead>\n",
       "  <tbody>\n",
       "    <tr>\n",
       "      <th>1</th>\n",
       "      <td>POINT (113.99153 22.59964)</td>\n",
       "      <td>科研楼 Research Building</td>\n",
       "      <td>8.963205</td>\n",
       "    </tr>\n",
       "    <tr>\n",
       "      <th>0</th>\n",
       "      <td>POINT (113.99020 22.60336)</td>\n",
       "      <td>工学院 COE</td>\n",
       "      <td>546.924606</td>\n",
       "    </tr>\n",
       "    <tr>\n",
       "      <th>10</th>\n",
       "      <td>POINT (113.99404 22.60443)</td>\n",
       "      <td>学生宿舍南 Student Dormitory S.</td>\n",
       "      <td>1115.232599</td>\n",
       "    </tr>\n",
       "    <tr>\n",
       "      <th>11</th>\n",
       "      <td>POINT (113.99524 22.60652)</td>\n",
       "      <td>荔园 Lychee Hill</td>\n",
       "      <td>1357.374447</td>\n",
       "    </tr>\n",
       "    <tr>\n",
       "      <th>12</th>\n",
       "      <td>POINT (113.99673 22.60628)</td>\n",
       "      <td>创园 Chuang Yuan</td>\n",
       "      <td>1541.149595</td>\n",
       "    </tr>\n",
       "    <tr>\n",
       "      <th>13</th>\n",
       "      <td>POINT (113.99837 22.60610)</td>\n",
       "      <td>慧园 Hui Yuan</td>\n",
       "      <td>1727.863554</td>\n",
       "    </tr>\n",
       "    <tr>\n",
       "      <th>14</th>\n",
       "      <td>POINT (113.99747 22.61067)</td>\n",
       "      <td>欣园 Joy Highland</td>\n",
       "      <td>2329.081063</td>\n",
       "    </tr>\n",
       "  </tbody>\n",
       "</table>\n",
       "</div>"
      ],
      "text/plain": [
       "                      geometry                        name         dist\n",
       "1   POINT (113.99153 22.59964)       科研楼 Research Building     8.963205\n",
       "0   POINT (113.99020 22.60336)                     工学院 COE   546.924606\n",
       "10  POINT (113.99404 22.60443)  学生宿舍南 Student Dormitory S.  1115.232599\n",
       "11  POINT (113.99524 22.60652)              荔园 Lychee Hill  1357.374447\n",
       "12  POINT (113.99673 22.60628)              创园 Chuang Yuan  1541.149595\n",
       "13  POINT (113.99837 22.60610)                 慧园 Hui Yuan  1727.863554\n",
       "14  POINT (113.99747 22.61067)             欣园 Joy Highland  2329.081063"
      ]
     },
     "execution_count": 86,
     "metadata": {},
     "output_type": "execute_result"
    }
   ],
   "source": [
    "stations_geojson_line2"
   ]
  },
  {
   "cell_type": "code",
   "execution_count": 10,
   "metadata": {},
   "outputs": [],
   "source": [
    "line2 = LineString(np.array(geojson_line_2)[:,:2])"
   ]
  },
  {
   "cell_type": "markdown",
   "metadata": {},
   "source": [
    "# 爬虫"
   ]
  },
  {
   "cell_type": "code",
   "execution_count": 1,
   "metadata": {},
   "outputs": [
    {
     "ename": "KeyboardInterrupt",
     "evalue": "",
     "output_type": "error",
     "traceback": [
      "\u001b[0;31m---------------------------------------------------------------------------\u001b[0m",
      "\u001b[0;31mKeyboardInterrupt\u001b[0m                         Traceback (most recent call last)",
      "\u001b[0;32m/var/folders/b0/q8rx9fj965b5p7yqq8zhvdx80000gn/T/ipykernel_1645/251871036.py\u001b[0m in \u001b[0;36m<module>\u001b[0;34m\u001b[0m\n\u001b[1;32m     17\u001b[0m     \u001b[0mthistime\u001b[0m \u001b[0;34m=\u001b[0m \u001b[0mtime\u001b[0m\u001b[0;34m.\u001b[0m\u001b[0mstrftime\u001b[0m\u001b[0;34m(\u001b[0m\u001b[0;34m\"%Y-%m-%d %H:%M:%S\"\u001b[0m\u001b[0;34m,\u001b[0m\u001b[0mtime\u001b[0m\u001b[0;34m.\u001b[0m\u001b[0mlocaltime\u001b[0m\u001b[0;34m(\u001b[0m\u001b[0mtime\u001b[0m\u001b[0;34m.\u001b[0m\u001b[0mtime\u001b[0m\u001b[0;34m(\u001b[0m\u001b[0;34m)\u001b[0m\u001b[0;34m)\u001b[0m\u001b[0;34m)\u001b[0m\u001b[0;34m\u001b[0m\u001b[0;34m\u001b[0m\u001b[0m\n\u001b[1;32m     18\u001b[0m     \u001b[0mdata\u001b[0m\u001b[0;34m.\u001b[0m\u001b[0mto_csv\u001b[0m\u001b[0;34m(\u001b[0m\u001b[0;34mr'data/'\u001b[0m\u001b[0;34m+\u001b[0m\u001b[0mthistime\u001b[0m\u001b[0;34m+\u001b[0m\u001b[0;34m'.csv'\u001b[0m\u001b[0;34m,\u001b[0m\u001b[0mindex\u001b[0m \u001b[0;34m=\u001b[0m \u001b[0;32mNone\u001b[0m\u001b[0;34m)\u001b[0m\u001b[0;34m\u001b[0m\u001b[0;34m\u001b[0m\u001b[0m\n\u001b[0;32m---> 19\u001b[0;31m     \u001b[0mtime\u001b[0m\u001b[0;34m.\u001b[0m\u001b[0msleep\u001b[0m\u001b[0;34m(\u001b[0m\u001b[0;36m5\u001b[0m\u001b[0;34m)\u001b[0m\u001b[0;34m\u001b[0m\u001b[0;34m\u001b[0m\u001b[0m\n\u001b[0m",
      "\u001b[0;31mKeyboardInterrupt\u001b[0m: "
     ]
    }
   ],
   "source": [
    "import urllib\n",
    "import json\n",
    "import pandas as pd\n",
    "import time\n",
    "while 1:\n",
    "    url = 'https://bus.sustcra.com/api/v2/monitor_osm/'\n",
    "    request = urllib.request.Request(url)\n",
    "    response = urllib.request.urlopen(request)\n",
    "    webpage = response.read()\n",
    "    result = webpage.decode('utf8', 'ignore')\n",
    "    data = json.loads(result)\n",
    "    data = pd.DataFrame(data)\n",
    "    data['time_mt'] = data['time_mt'].apply(lambda r:time.strftime(\"%Y-%m-%d %H:%M:%S\",time.localtime(r)))\n",
    "    data['time_rt'] = data['time_rt'].apply(lambda r:time.strftime(\"%Y-%m-%d %H:%M:%S\",time.localtime(r)))\n",
    "    data['time_et'] = data['time_et'].apply(lambda r:time.strftime(\"%Y-%m-%d %H:%M:%S\",time.localtime(r)))\n",
    "    data['time_at'] = data['time_at'].apply(lambda r:time.strftime(\"%Y-%m-%d %H:%M:%S\",time.localtime(r)))\n",
    "    thistime = time.strftime(\"%Y-%m-%d %H:%M:%S\",time.localtime(time.time()))\n",
    "    data.to_csv(r'data/'+thistime+'.csv',index = None)\n",
    "    time.sleep(5)"
   ]
  },
  {
   "cell_type": "code",
   "execution_count": 2,
   "metadata": {},
   "outputs": [],
   "source": [
    "import pandas as pd\n",
    "import glob\n",
    "files = glob.glob(\"data/*.csv\")\n",
    "df = []\n",
    "for f in files:\n",
    "    csv = pd.read_csv(f)\n",
    "    df.append(csv)\n",
    "df = pd.concat(df)"
   ]
  },
  {
   "cell_type": "markdown",
   "metadata": {},
   "source": [
    "# 数据处理"
   ]
  },
  {
   "cell_type": "code",
   "execution_count": 129,
   "metadata": {},
   "outputs": [
    {
     "data": {
      "text/html": [
       "<div>\n",
       "<style scoped>\n",
       "    .dataframe tbody tr th:only-of-type {\n",
       "        vertical-align: middle;\n",
       "    }\n",
       "\n",
       "    .dataframe tbody tr th {\n",
       "        vertical-align: top;\n",
       "    }\n",
       "\n",
       "    .dataframe thead th {\n",
       "        text-align: right;\n",
       "    }\n",
       "</style>\n",
       "<table border=\"1\" class=\"dataframe\">\n",
       "  <thead>\n",
       "    <tr style=\"text-align: right;\">\n",
       "      <th></th>\n",
       "      <th>id</th>\n",
       "      <th>time_mt</th>\n",
       "      <th>time_rt</th>\n",
       "      <th>time_et</th>\n",
       "      <th>time_at</th>\n",
       "      <th>lng</th>\n",
       "      <th>lat</th>\n",
       "      <th>speed</th>\n",
       "      <th>course</th>\n",
       "      <th>accum_trip</th>\n",
       "      <th>route_dir</th>\n",
       "      <th>route_flag</th>\n",
       "      <th>route_sn</th>\n",
       "      <th>route_dist</th>\n",
       "    </tr>\n",
       "  </thead>\n",
       "  <tbody>\n",
       "    <tr>\n",
       "      <th>20054</th>\n",
       "      <td>8365</td>\n",
       "      <td>2022-07-30 10:16:57</td>\n",
       "      <td>2022-07-30 10:22:57</td>\n",
       "      <td>2022-07-30 10:22:57</td>\n",
       "      <td>2022-07-30 08:30:05</td>\n",
       "      <td>113.996788</td>\n",
       "      <td>22.610540</td>\n",
       "      <td>0</td>\n",
       "      <td>331</td>\n",
       "      <td>59441.0</td>\n",
       "      <td>1</td>\n",
       "      <td>1</td>\n",
       "      <td>1</td>\n",
       "      <td>532</td>\n",
       "    </tr>\n",
       "    <tr>\n",
       "      <th>20051</th>\n",
       "      <td>8040</td>\n",
       "      <td>2022-07-30 08:36:15</td>\n",
       "      <td>2022-07-30 10:22:59</td>\n",
       "      <td>2022-07-30 10:23:00</td>\n",
       "      <td>2022-07-30 08:13:08</td>\n",
       "      <td>113.996726</td>\n",
       "      <td>22.610452</td>\n",
       "      <td>0</td>\n",
       "      <td>65</td>\n",
       "      <td>66714.0</td>\n",
       "      <td>1</td>\n",
       "      <td>1</td>\n",
       "      <td>7</td>\n",
       "      <td>1000</td>\n",
       "    </tr>\n",
       "    <tr>\n",
       "      <th>20056</th>\n",
       "      <td>8458</td>\n",
       "      <td>2022-07-30 10:18:30</td>\n",
       "      <td>2022-07-30 10:23:00</td>\n",
       "      <td>2022-07-30 10:23:00</td>\n",
       "      <td>2022-07-30 10:18:30</td>\n",
       "      <td>113.996726</td>\n",
       "      <td>22.610261</td>\n",
       "      <td>0</td>\n",
       "      <td>0</td>\n",
       "      <td>66042.5</td>\n",
       "      <td>1</td>\n",
       "      <td>1</td>\n",
       "      <td>1</td>\n",
       "      <td>533</td>\n",
       "    </tr>\n",
       "    <tr>\n",
       "      <th>20053</th>\n",
       "      <td>8345</td>\n",
       "      <td>2022-07-30 10:23:00</td>\n",
       "      <td>2022-07-30 10:23:00</td>\n",
       "      <td>2022-07-30 10:23:00</td>\n",
       "      <td>2022-07-30 08:38:14</td>\n",
       "      <td>113.990272</td>\n",
       "      <td>22.597555</td>\n",
       "      <td>20</td>\n",
       "      <td>185</td>\n",
       "      <td>54395.2</td>\n",
       "      <td>1</td>\n",
       "      <td>0</td>\n",
       "      <td>12</td>\n",
       "      <td>217</td>\n",
       "    </tr>\n",
       "    <tr>\n",
       "      <th>20055</th>\n",
       "      <td>8411</td>\n",
       "      <td>2022-07-30 10:22:57</td>\n",
       "      <td>2022-07-30 10:23:01</td>\n",
       "      <td>2022-07-30 10:22:57</td>\n",
       "      <td>2022-07-30 06:41:26</td>\n",
       "      <td>113.996269</td>\n",
       "      <td>22.606470</td>\n",
       "      <td>24</td>\n",
       "      <td>284</td>\n",
       "      <td>51155.6</td>\n",
       "      <td>1</td>\n",
       "      <td>1</td>\n",
       "      <td>3</td>\n",
       "      <td>106</td>\n",
       "    </tr>\n",
       "    <tr>\n",
       "      <th>...</th>\n",
       "      <td>...</td>\n",
       "      <td>...</td>\n",
       "      <td>...</td>\n",
       "      <td>...</td>\n",
       "      <td>...</td>\n",
       "      <td>...</td>\n",
       "      <td>...</td>\n",
       "      <td>...</td>\n",
       "      <td>...</td>\n",
       "      <td>...</td>\n",
       "      <td>...</td>\n",
       "      <td>...</td>\n",
       "      <td>...</td>\n",
       "      <td>...</td>\n",
       "    </tr>\n",
       "    <tr>\n",
       "      <th>11515</th>\n",
       "      <td>8458</td>\n",
       "      <td>2022-07-30 17:56:02</td>\n",
       "      <td>2022-07-30 17:56:20</td>\n",
       "      <td>2022-07-30 17:56:17</td>\n",
       "      <td>2022-07-30 10:43:09</td>\n",
       "      <td>113.996078</td>\n",
       "      <td>22.602931</td>\n",
       "      <td>0</td>\n",
       "      <td>101</td>\n",
       "      <td>66121.6</td>\n",
       "      <td>1</td>\n",
       "      <td>1</td>\n",
       "      <td>6</td>\n",
       "      <td>170</td>\n",
       "    </tr>\n",
       "    <tr>\n",
       "      <th>18831</th>\n",
       "      <td>8458</td>\n",
       "      <td>2022-07-30 17:56:02</td>\n",
       "      <td>2022-07-30 17:56:20</td>\n",
       "      <td>2022-07-30 17:56:17</td>\n",
       "      <td>2022-07-30 10:43:09</td>\n",
       "      <td>113.996078</td>\n",
       "      <td>22.602931</td>\n",
       "      <td>0</td>\n",
       "      <td>101</td>\n",
       "      <td>66121.6</td>\n",
       "      <td>1</td>\n",
       "      <td>1</td>\n",
       "      <td>6</td>\n",
       "      <td>170</td>\n",
       "    </tr>\n",
       "    <tr>\n",
       "      <th>17888</th>\n",
       "      <td>8458</td>\n",
       "      <td>2022-07-30 17:56:02</td>\n",
       "      <td>2022-07-30 17:56:20</td>\n",
       "      <td>2022-07-30 17:56:17</td>\n",
       "      <td>2022-07-30 10:43:09</td>\n",
       "      <td>113.996078</td>\n",
       "      <td>22.602931</td>\n",
       "      <td>0</td>\n",
       "      <td>101</td>\n",
       "      <td>66121.6</td>\n",
       "      <td>1</td>\n",
       "      <td>1</td>\n",
       "      <td>6</td>\n",
       "      <td>170</td>\n",
       "    </tr>\n",
       "    <tr>\n",
       "      <th>11513</th>\n",
       "      <td>8365</td>\n",
       "      <td>2022-07-30 17:56:24</td>\n",
       "      <td>2022-07-30 17:56:27</td>\n",
       "      <td>2022-07-30 17:56:24</td>\n",
       "      <td>2022-07-30 08:30:05</td>\n",
       "      <td>113.997032</td>\n",
       "      <td>22.597789</td>\n",
       "      <td>15</td>\n",
       "      <td>39</td>\n",
       "      <td>59488.4</td>\n",
       "      <td>2</td>\n",
       "      <td>1</td>\n",
       "      <td>5</td>\n",
       "      <td>361</td>\n",
       "    </tr>\n",
       "    <tr>\n",
       "      <th>18829</th>\n",
       "      <td>8365</td>\n",
       "      <td>2022-07-30 17:56:24</td>\n",
       "      <td>2022-07-30 17:56:27</td>\n",
       "      <td>2022-07-30 17:56:24</td>\n",
       "      <td>2022-07-30 08:30:05</td>\n",
       "      <td>113.997032</td>\n",
       "      <td>22.597789</td>\n",
       "      <td>15</td>\n",
       "      <td>39</td>\n",
       "      <td>59488.4</td>\n",
       "      <td>2</td>\n",
       "      <td>1</td>\n",
       "      <td>5</td>\n",
       "      <td>361</td>\n",
       "    </tr>\n",
       "  </tbody>\n",
       "</table>\n",
       "<p>29288 rows × 14 columns</p>\n",
       "</div>"
      ],
      "text/plain": [
       "         id              time_mt              time_rt              time_et  \\\n",
       "20054  8365  2022-07-30 10:16:57  2022-07-30 10:22:57  2022-07-30 10:22:57   \n",
       "20051  8040  2022-07-30 08:36:15  2022-07-30 10:22:59  2022-07-30 10:23:00   \n",
       "20056  8458  2022-07-30 10:18:30  2022-07-30 10:23:00  2022-07-30 10:23:00   \n",
       "20053  8345  2022-07-30 10:23:00  2022-07-30 10:23:00  2022-07-30 10:23:00   \n",
       "20055  8411  2022-07-30 10:22:57  2022-07-30 10:23:01  2022-07-30 10:22:57   \n",
       "...     ...                  ...                  ...                  ...   \n",
       "11515  8458  2022-07-30 17:56:02  2022-07-30 17:56:20  2022-07-30 17:56:17   \n",
       "18831  8458  2022-07-30 17:56:02  2022-07-30 17:56:20  2022-07-30 17:56:17   \n",
       "17888  8458  2022-07-30 17:56:02  2022-07-30 17:56:20  2022-07-30 17:56:17   \n",
       "11513  8365  2022-07-30 17:56:24  2022-07-30 17:56:27  2022-07-30 17:56:24   \n",
       "18829  8365  2022-07-30 17:56:24  2022-07-30 17:56:27  2022-07-30 17:56:24   \n",
       "\n",
       "                   time_at         lng        lat  speed  course  accum_trip  \\\n",
       "20054  2022-07-30 08:30:05  113.996788  22.610540      0     331     59441.0   \n",
       "20051  2022-07-30 08:13:08  113.996726  22.610452      0      65     66714.0   \n",
       "20056  2022-07-30 10:18:30  113.996726  22.610261      0       0     66042.5   \n",
       "20053  2022-07-30 08:38:14  113.990272  22.597555     20     185     54395.2   \n",
       "20055  2022-07-30 06:41:26  113.996269  22.606470     24     284     51155.6   \n",
       "...                    ...         ...        ...    ...     ...         ...   \n",
       "11515  2022-07-30 10:43:09  113.996078  22.602931      0     101     66121.6   \n",
       "18831  2022-07-30 10:43:09  113.996078  22.602931      0     101     66121.6   \n",
       "17888  2022-07-30 10:43:09  113.996078  22.602931      0     101     66121.6   \n",
       "11513  2022-07-30 08:30:05  113.997032  22.597789     15      39     59488.4   \n",
       "18829  2022-07-30 08:30:05  113.997032  22.597789     15      39     59488.4   \n",
       "\n",
       "       route_dir  route_flag  route_sn  route_dist  \n",
       "20054          1           1         1         532  \n",
       "20051          1           1         7        1000  \n",
       "20056          1           1         1         533  \n",
       "20053          1           0        12         217  \n",
       "20055          1           1         3         106  \n",
       "...          ...         ...       ...         ...  \n",
       "11515          1           1         6         170  \n",
       "18831          1           1         6         170  \n",
       "17888          1           1         6         170  \n",
       "11513          2           1         5         361  \n",
       "18829          2           1         5         361  \n",
       "\n",
       "[29288 rows x 14 columns]"
      ]
     },
     "execution_count": 129,
     "metadata": {},
     "output_type": "execute_result"
    }
   ],
   "source": [
    "df = pd.read_csv(r'data/data.csv')\n",
    "df = df.sort_values(by = 'time_rt')\n",
    "df"
   ]
  },
  {
   "cell_type": "code",
   "execution_count": 130,
   "metadata": {},
   "outputs": [],
   "source": [
    "df = df[((pd.to_datetime(df['time_rt'])-pd.to_datetime(df['time_mt'])).dt.total_seconds())<300]"
   ]
  },
  {
   "cell_type": "code",
   "execution_count": 131,
   "metadata": {},
   "outputs": [
    {
     "data": {
      "text/plain": [
       "8458     4368\n",
       "8335     4184\n",
       "8365     3233\n",
       "8411     2571\n",
       "8345     2478\n",
       "18447      74\n",
       "8147       50\n",
       "8040       20\n",
       "Name: id, dtype: int64"
      ]
     },
     "execution_count": 131,
     "metadata": {},
     "output_type": "execute_result"
    }
   ],
   "source": [
    "df['id'].value_counts()"
   ]
  },
  {
   "cell_type": "code",
   "execution_count": 136,
   "metadata": {},
   "outputs": [],
   "source": [
    "df[(df['id']==8345)].to_csv(r'data/data_dir11.csv',index = None)"
   ]
  },
  {
   "cell_type": "code",
   "execution_count": 60,
   "metadata": {},
   "outputs": [],
   "source": [
    "import pandas as pd\n",
    "import numpy as np\n",
    "import geopandas as gpd\n",
    "import transbigdata as tbd\n",
    "df = gpd.GeoDataFrame(df)\n",
    "df['geometry'] = gpd.points_from_xy(df['lng'],df['lat'])"
   ]
  },
  {
   "cell_type": "code",
   "execution_count": 108,
   "metadata": {},
   "outputs": [],
   "source": [
    "line1data.crs = 'epsg:4326'\n",
    "line1 = line1data.to_crs(epsg=3857)['geometry'].iloc[0]"
   ]
  },
  {
   "cell_type": "code",
   "execution_count": 109,
   "metadata": {},
   "outputs": [],
   "source": [
    "df.crs = 'epsg:4326'\n",
    "p1 = df.to_crs(epsg=3857)['geometry'].iloc[0]"
   ]
  },
  {
   "cell_type": "code",
   "execution_count": 116,
   "metadata": {},
   "outputs": [
    {
     "data": {
      "text/plain": [
       "20054    331\n",
       "20051     65\n",
       "20056      0\n",
       "20053    185\n",
       "20055    284\n",
       "        ... \n",
       "11515    101\n",
       "18831    101\n",
       "17888    101\n",
       "11513     39\n",
       "18829     39\n",
       "Name: course, Length: 29288, dtype: int64"
      ]
     },
     "execution_count": 116,
     "metadata": {},
     "output_type": "execute_result"
    }
   ],
   "source": [
    "df['course']"
   ]
  },
  {
   "cell_type": "code",
   "execution_count": 114,
   "metadata": {},
   "outputs": [
    {
     "data": {
      "image/svg+xml": "<svg xmlns=\"http://www.w3.org/2000/svg\" xmlns:xlink=\"http://www.w3.org/1999/xlink\" width=\"100.0\" height=\"100.0\" viewBox=\"12690061.894629462 2584984.996250808 67.43518100492656 21.565791462082416\" preserveAspectRatio=\"xMinYMin meet\"><g transform=\"matrix(1,0,0,-1,0,5169991.558293078)\"><polyline fill=\"none\" stroke=\"#66cc99\" stroke-width=\"1.3487036200985312\" points=\"12690064.392228758,2584987.493850104 12690126.83221117,2585004.0644429736\" opacity=\"0.8\" /></g></svg>",
      "text/plain": [
       "<shapely.geometry.linestring.LineString at 0x7fb2a0c44bb0>"
      ]
     },
     "execution_count": 114,
     "metadata": {},
     "output_type": "execute_result"
    }
   ],
   "source": [
    "from shapely.geometry import LineString\n",
    "LineString([p1,line1.interpolate(line1.project(p1)+1)])\n"
   ]
  },
  {
   "cell_type": "code",
   "execution_count": 50,
   "metadata": {},
   "outputs": [
    {
     "data": {
      "text/plain": [
       "1    15124\n",
       "0    14164\n",
       "Name: route_flag, dtype: int64"
      ]
     },
     "execution_count": 50,
     "metadata": {},
     "output_type": "execute_result"
    }
   ],
   "source": [
    "df['route_flag'].value_counts()"
   ]
  },
  {
   "cell_type": "code",
   "execution_count": 62,
   "metadata": {},
   "outputs": [],
   "source": [
    "df['a'] = df['route_dir'].astype(str)+'_'+df['route_sn'].astype(str)"
   ]
  },
  {
   "cell_type": "code",
   "execution_count": 69,
   "metadata": {},
   "outputs": [
    {
     "data": {
      "image/png": "[encoded data removed]",
      "text/plain": [
       "<Figure size 360x360 with 1 Axes>"
      ]
     },
     "metadata": {
      "needs_background": "light"
     },
     "output_type": "display_data"
    },
    {
     "data": {
      "image/png": "[encoded data removed]",
      "text/plain": [
       "<Figure size 360x360 with 1 Axes>"
      ]
     },
     "metadata": {
      "needs_background": "light"
     },
     "output_type": "display_data"
    },
    {
     "data": {
      "image/png": "[encoded data removed]",
      "text/plain": [
       "<Figure size 360x360 with 1 Axes>"
      ]
     },
     "metadata": {
      "needs_background": "light"
     },
     "output_type": "display_data"
    },
    {
     "data": {
      "image/png": "[encoded data removed]",
      "text/plain": [
       "<Figure size 360x360 with 1 Axes>"
      ]
     },
     "metadata": {
      "needs_background": "light"
     },
     "output_type": "display_data"
    },
    {
     "data": {
      "image/png": "[encoded data removed]",
      "text/plain": [
       "<Figure size 360x360 with 1 Axes>"
      ]
     },
     "metadata": {
      "needs_background": "light"
     },
     "output_type": "display_data"
    },
    {
     "data": {
      "image/png": "[encoded data removed]",
      "text/plain": [
       "<Figure size 360x360 with 1 Axes>"
      ]
     },
     "metadata": {
      "needs_background": "light"
     },
     "output_type": "display_data"
    },
    {
     "data": {
      "image/png": "[encoded data removed]",
      "text/plain": [
       "<Figure size 360x360 with 1 Axes>"
      ]
     },
     "metadata": {
      "needs_background": "light"
     },
     "output_type": "display_data"
    },
    {
     "data": {
      "image/png": "[encoded data removed]",
      "text/plain": [
       "<Figure size 360x360 with 1 Axes>"
      ]
     },
     "metadata": {
      "needs_background": "light"
     },
     "output_type": "display_data"
    },
    {
     "data": {
      "image/png": "[encoded data removed]",
      "text/plain": [
       "<Figure size 360x360 with 1 Axes>"
      ]
     },
     "metadata": {
      "needs_background": "light"
     },
     "output_type": "display_data"
    },
    {
     "data": {
      "image/png": "[encoded data removed]",
      "text/plain": [
       "<Figure size 360x360 with 1 Axes>"
      ]
     },
     "metadata": {
      "needs_background": "light"
     },
     "output_type": "display_data"
    },
    {
     "data": {
      "image/png": "[encoded data removed]",
      "text/plain": [
       "<Figure size 360x360 with 1 Axes>"
      ]
     },
     "metadata": {
      "needs_background": "light"
     },
     "output_type": "display_data"
    },
    {
     "data": {
      "image/png": "[encoded data removed]",
      "text/plain": [
       "<Figure size 360x360 with 1 Axes>"
      ]
     },
     "metadata": {
      "needs_background": "light"
     },
     "output_type": "display_data"
    },
    {
     "data": {
      "image/png": "[encoded data removed]",
      "text/plain": [
       "<Figure size 360x360 with 1 Axes>"
      ]
     },
     "metadata": {
      "needs_background": "light"
     },
     "output_type": "display_data"
    },
    {
     "data": {
      "image/png": "[encoded data removed]",
      "text/plain": [
       "<Figure size 360x360 with 1 Axes>"
      ]
     },
     "metadata": {
      "needs_background": "light"
     },
     "output_type": "display_data"
    },
    {
     "data": {
      "image/png": "[encoded data removed]",
      "text/plain": [
       "<Figure size 360x360 with 1 Axes>"
      ]
     },
     "metadata": {
      "needs_background": "light"
     },
     "output_type": "display_data"
    },
    {
     "data": {
      "image/png": "[encoded data removed]",
      "text/plain": [
       "<Figure size 360x360 with 1 Axes>"
      ]
     },
     "metadata": {
      "needs_background": "light"
     },
     "output_type": "display_data"
    },
    {
     "data": {
      "image/png": "[encoded data removed]",
      "text/plain": [
       "<Figure size 360x360 with 1 Axes>"
      ]
     },
     "metadata": {
      "needs_background": "light"
     },
     "output_type": "display_data"
    },
    {
     "data": {
      "image/png": "[encoded data removed]",
      "text/plain": [
       "<Figure size 360x360 with 1 Axes>"
      ]
     },
     "metadata": {
      "needs_background": "light"
     },
     "output_type": "display_data"
    },
    {
     "data": {
      "image/png": "[encoded data removed]",
      "text/plain": [
       "<Figure size 360x360 with 1 Axes>"
      ]
     },
     "metadata": {
      "needs_background": "light"
     },
     "output_type": "display_data"
    },
    {
     "data": {
      "image/png": "[encoded data removed]",
      "text/plain": [
       "<Figure size 360x360 with 1 Axes>"
      ]
     },
     "metadata": {
      "needs_background": "light"
     },
     "output_type": "display_data"
    },
    {
     "data": {
      "image/png": "[encoded data removed]",
      "text/plain": [
       "<Figure size 360x360 with 1 Axes>"
      ]
     },
     "metadata": {
      "needs_background": "light"
     },
     "output_type": "display_data"
    },
    {
     "data": {
      "image/png": "[encoded data removed]",
      "text/plain": [
       "<Figure size 360x360 with 1 Axes>"
      ]
     },
     "metadata": {
      "needs_background": "light"
     },
     "output_type": "display_data"
    },
    {
     "data": {
      "image/png": "[encoded data removed]",
      "text/plain": [
       "<Figure size 360x360 with 1 Axes>"
      ]
     },
     "metadata": {
      "needs_background": "light"
     },
     "output_type": "display_data"
    },
    {
     "data": {
      "image/png": "[encoded data removed]",
      "text/plain": [
       "<Figure size 360x360 with 1 Axes>"
      ]
     },
     "metadata": {
      "needs_background": "light"
     },
     "output_type": "display_data"
    },
    {
     "data": {
      "image/png": "[encoded data removed]",
      "text/plain": [
       "<Figure size 360x360 with 1 Axes>"
      ]
     },
     "metadata": {
      "needs_background": "light"
     },
     "output_type": "display_data"
    },
    {
     "data": {
      "image/png": "[encoded data removed]",
      "text/plain": [
       "<Figure size 360x360 with 1 Axes>"
      ]
     },
     "metadata": {
      "needs_background": "light"
     },
     "output_type": "display_data"
    }
   ],
   "source": [
    "col = 'a'\n",
    "for i in df[col].drop_duplicates().sort_values():\n",
    "    import seaborn as sns\n",
    "    import matplotlib.pyplot as plt\n",
    "    fig = plt.figure(1,(5,5))\n",
    "    ax = plt.subplot(111)\n",
    "    df[df[col]==i].plot(ax = ax)\n",
    "    plt.title(col+'='+str(i))\n",
    "    plt.xlim(113.990119,113.999664)\n",
    "    plt.ylim(22.595556,22.611579000000006)\n",
    "    plt.show()"
   ]
  },
  {
   "cell_type": "code",
   "execution_count": 137,
   "metadata": {},
   "outputs": [
    {
     "data": {
      "text/plain": [
       "250.0"
      ]
     },
     "execution_count": 137,
     "metadata": {},
     "output_type": "execute_result"
    }
   ],
   "source": [
    "4000/(16)"
   ]
  },
  {
   "cell_type": "code",
   "execution_count": null,
   "metadata": {},
   "outputs": [],
   "source": []
  }
 ],
 "metadata": {
  "kernelspec": {
   "display_name": "Python 3.8.8",
   "language": "python",
   "name": "python3"
  },
  "language_info": {
   "codemirror_mode": {
    "name": "ipython",
    "version": 3
   },
   "file_extension": ".py",
   "mimetype": "text/x-python",
   "name": "python",
   "nbconvert_exporter": "python",
   "pygments_lexer": "ipython3",
   "version": "3.8.8"
  },
  "orig_nbformat": 4,
  "vscode": {
   "interpreter": {
    "hash": "40d3a090f54c6569ab1632332b64b2c03c39dcf918b08424e98f38b5ae0af88f"
   }
  }
 },
 "nbformat": 4,
 "nbformat_minor": 2
}
